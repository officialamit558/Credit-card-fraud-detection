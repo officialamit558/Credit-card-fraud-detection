{
 "cells": [
  {
   "cell_type": "code",
   "execution_count": 1,
   "id": "afcaaf0c",
   "metadata": {},
   "outputs": [],
   "source": [
    "import matplotlib.pyplot as plt\n",
    "import pandas as pd\n",
    "import pylab as pl\n",
    "import numpy as np\n",
    "%matplotlib inline"
   ]
  },
  {
   "cell_type": "markdown",
   "id": "30309de9",
   "metadata": {},
   "source": [
    "# Import data "
   ]
  },
  {
   "cell_type": "code",
   "execution_count": 2,
   "id": "6edb5a8d",
   "metadata": {},
   "outputs": [
    {
     "data": {
      "text/html": [
       "<div>\n",
       "<style scoped>\n",
       "    .dataframe tbody tr th:only-of-type {\n",
       "        vertical-align: middle;\n",
       "    }\n",
       "\n",
       "    .dataframe tbody tr th {\n",
       "        vertical-align: top;\n",
       "    }\n",
       "\n",
       "    .dataframe thead th {\n",
       "        text-align: right;\n",
       "    }\n",
       "</style>\n",
       "<table border=\"1\" class=\"dataframe\">\n",
       "  <thead>\n",
       "    <tr style=\"text-align: right;\">\n",
       "      <th></th>\n",
       "      <th>ENGINESIZE</th>\n",
       "      <th>CYLINDERS</th>\n",
       "      <th>FUELCONSUMPTION_COMB</th>\n",
       "      <th>CO2EMISSIONS</th>\n",
       "    </tr>\n",
       "  </thead>\n",
       "  <tbody>\n",
       "    <tr>\n",
       "      <th>0</th>\n",
       "      <td>2.0</td>\n",
       "      <td>4</td>\n",
       "      <td>8.5</td>\n",
       "      <td>196</td>\n",
       "    </tr>\n",
       "    <tr>\n",
       "      <th>1</th>\n",
       "      <td>2.4</td>\n",
       "      <td>4</td>\n",
       "      <td>9.6</td>\n",
       "      <td>221</td>\n",
       "    </tr>\n",
       "    <tr>\n",
       "      <th>2</th>\n",
       "      <td>1.5</td>\n",
       "      <td>4</td>\n",
       "      <td>5.9</td>\n",
       "      <td>136</td>\n",
       "    </tr>\n",
       "  </tbody>\n",
       "</table>\n",
       "</div>"
      ],
      "text/plain": [
       "   ENGINESIZE  CYLINDERS  FUELCONSUMPTION_COMB  CO2EMISSIONS\n",
       "0         2.0          4                   8.5           196\n",
       "1         2.4          4                   9.6           221\n",
       "2         1.5          4                   5.9           136"
      ]
     },
     "execution_count": 2,
     "metadata": {},
     "output_type": "execute_result"
    }
   ],
   "source": [
    "df = pd.read_csv('Linear_Regression_models.csv')\n",
    "df.head(3)"
   ]
  },
  {
   "cell_type": "code",
   "execution_count": 3,
   "id": "86d72189",
   "metadata": {},
   "outputs": [
    {
     "data": {
      "text/html": [
       "<div>\n",
       "<style scoped>\n",
       "    .dataframe tbody tr th:only-of-type {\n",
       "        vertical-align: middle;\n",
       "    }\n",
       "\n",
       "    .dataframe tbody tr th {\n",
       "        vertical-align: top;\n",
       "    }\n",
       "\n",
       "    .dataframe thead th {\n",
       "        text-align: right;\n",
       "    }\n",
       "</style>\n",
       "<table border=\"1\" class=\"dataframe\">\n",
       "  <thead>\n",
       "    <tr style=\"text-align: right;\">\n",
       "      <th></th>\n",
       "      <th>ENGINESIZE</th>\n",
       "      <th>CYLINDERS</th>\n",
       "      <th>FUELCONSUMPTION_COMB</th>\n",
       "      <th>CO2EMISSIONS</th>\n",
       "    </tr>\n",
       "  </thead>\n",
       "  <tbody>\n",
       "    <tr>\n",
       "      <th>count</th>\n",
       "      <td>1067.000000</td>\n",
       "      <td>1067.000000</td>\n",
       "      <td>1067.000000</td>\n",
       "      <td>1067.000000</td>\n",
       "    </tr>\n",
       "    <tr>\n",
       "      <th>mean</th>\n",
       "      <td>3.346298</td>\n",
       "      <td>5.794752</td>\n",
       "      <td>11.580881</td>\n",
       "      <td>256.228679</td>\n",
       "    </tr>\n",
       "    <tr>\n",
       "      <th>std</th>\n",
       "      <td>1.415895</td>\n",
       "      <td>1.797447</td>\n",
       "      <td>3.485595</td>\n",
       "      <td>63.372304</td>\n",
       "    </tr>\n",
       "    <tr>\n",
       "      <th>min</th>\n",
       "      <td>1.000000</td>\n",
       "      <td>3.000000</td>\n",
       "      <td>4.700000</td>\n",
       "      <td>108.000000</td>\n",
       "    </tr>\n",
       "    <tr>\n",
       "      <th>25%</th>\n",
       "      <td>2.000000</td>\n",
       "      <td>4.000000</td>\n",
       "      <td>9.000000</td>\n",
       "      <td>207.000000</td>\n",
       "    </tr>\n",
       "    <tr>\n",
       "      <th>50%</th>\n",
       "      <td>3.400000</td>\n",
       "      <td>6.000000</td>\n",
       "      <td>10.900000</td>\n",
       "      <td>251.000000</td>\n",
       "    </tr>\n",
       "    <tr>\n",
       "      <th>75%</th>\n",
       "      <td>4.300000</td>\n",
       "      <td>8.000000</td>\n",
       "      <td>13.350000</td>\n",
       "      <td>294.000000</td>\n",
       "    </tr>\n",
       "    <tr>\n",
       "      <th>max</th>\n",
       "      <td>8.400000</td>\n",
       "      <td>12.000000</td>\n",
       "      <td>25.800000</td>\n",
       "      <td>488.000000</td>\n",
       "    </tr>\n",
       "  </tbody>\n",
       "</table>\n",
       "</div>"
      ],
      "text/plain": [
       "        ENGINESIZE    CYLINDERS  FUELCONSUMPTION_COMB  CO2EMISSIONS\n",
       "count  1067.000000  1067.000000           1067.000000   1067.000000\n",
       "mean      3.346298     5.794752             11.580881    256.228679\n",
       "std       1.415895     1.797447              3.485595     63.372304\n",
       "min       1.000000     3.000000              4.700000    108.000000\n",
       "25%       2.000000     4.000000              9.000000    207.000000\n",
       "50%       3.400000     6.000000             10.900000    251.000000\n",
       "75%       4.300000     8.000000             13.350000    294.000000\n",
       "max       8.400000    12.000000             25.800000    488.000000"
      ]
     },
     "execution_count": 3,
     "metadata": {},
     "output_type": "execute_result"
    }
   ],
   "source": [
    "df.describe()"
   ]
  },
  {
   "cell_type": "code",
   "execution_count": 4,
   "id": "f61ee86a",
   "metadata": {},
   "outputs": [
    {
     "data": {
      "text/plain": [
       "ENGINESIZE              1067\n",
       "CYLINDERS               1067\n",
       "FUELCONSUMPTION_COMB    1067\n",
       "CO2EMISSIONS            1067\n",
       "dtype: int64"
      ]
     },
     "execution_count": 4,
     "metadata": {},
     "output_type": "execute_result"
    }
   ],
   "source": [
    "df.count()"
   ]
  },
  {
   "cell_type": "code",
   "execution_count": 6,
   "id": "10cd2ab3",
   "metadata": {},
   "outputs": [
    {
     "data": {
      "image/png": "[encoded data removed]",
      "text/plain": [
       "<Figure size 640x480 with 4 Axes>"
      ]
     },
     "metadata": {},
     "output_type": "display_data"
    }
   ],
   "source": [
    "vis = df[['ENGINESIZE','CYLINDERS','FUELCONSUMPTION_COMB','CO2EMISSIONS']]\n",
    "vis.hist()\n",
    "plt.show()"
   ]
  },
  {
   "cell_type": "code",
   "execution_count": 10,
   "id": "a7d30cd0",
   "metadata": {},
   "outputs": [
    {
     "data": {
      "image/png": "[encoded data removed]",
      "text/plain": [
       "<Figure size 640x480 with 1 Axes>"
      ]
     },
     "metadata": {},
     "output_type": "display_data"
    },
    {
     "data": {
      "image/png": "[encoded data removed]",
      "text/plain": [
       "<Figure size 640x480 with 1 Axes>"
      ]
     },
     "metadata": {},
     "output_type": "display_data"
    },
    {
     "data": {
      "image/png": "[encoded data removed]",
      "text/plain": [
       "<Figure size 640x480 with 1 Axes>"
      ]
     },
     "metadata": {},
     "output_type": "display_data"
    }
   ],
   "source": [
    "plt.scatter(df.FUELCONSUMPTION_COMB, df.CO2EMISSIONS,  color='red')\n",
    "plt.xlabel(\"FUELCONSUMPTION_COMB\")\n",
    "plt.ylabel(\"Emission\")\n",
    "plt.show()\n",
    "\n",
    "plt.scatter(df.ENGINESIZE, df.CO2EMISSIONS,  color='blue')\n",
    "plt.xlabel(\"Engine size\")\n",
    "plt.ylabel(\"Emission\")\n",
    "plt.show()\n",
    "\n",
    "# write your code here\n",
    "plt.scatter(df.CYLINDERS , df.CO2EMISSIONS , color = 'red' )\n",
    "plt.xlabel('CYLINDER')\n",
    "plt.ylabel('Emission')\n",
    "plt.show()"
   ]
  },
  {
   "cell_type": "markdown",
   "id": "3852e2d7",
   "metadata": {},
   "source": [
    "# Creating train and test dataset\n",
    "Let's split our dataset into train and test sets. 80% of the entire dataset will be used for training and 20% for testing. We create a mask to select random rows using np.random.rand() function:"
   ]
  },
  {
   "cell_type": "code",
   "execution_count": 18,
   "id": "64360169",
   "metadata": {},
   "outputs": [],
   "source": [
    "msk = np.random.rand(len(df)) < 0.8\n",
    "train =df[msk]\n",
    "test =df[~msk]"
   ]
  },
  {
   "cell_type": "markdown",
   "id": "7a2ab713",
   "metadata": {},
   "source": [
    "# Creation of Model"
   ]
  },
  {
   "cell_type": "code",
   "execution_count": 23,
   "id": "28750b46",
   "metadata": {},
   "outputs": [
    {
     "name": "stdout",
     "output_type": "stream",
     "text": [
      "Coefficients:  [[38.94277682]]\n",
      "Intercept:  [125.73513812]\n"
     ]
    }
   ],
   "source": [
    "from sklearn import linear_model\n",
    "regr = linear_model.LinearRegression()\n",
    "train_x = np.asanyarray(train[['ENGINESIZE']])\n",
    "train_y = np.asanyarray(train[['CO2EMISSIONS']])\n",
    "regr.fit(train_x, train_y)\n",
    "# The coefficients\n",
    "print ('Coefficients: ', regr.coef_)\n",
    "print ('Intercept: ',regr.intercept_)"
   ]
  },
  {
   "cell_type": "code",
   "execution_count": null,
   "id": "856b89dd",
   "metadata": {},
   "outputs": [],
   "source": [
    "regr.score(train_x,train)"
   ]
  },
  {
   "cell_type": "code",
   "execution_count": null,
   "id": "8254331a",
   "metadata": {},
   "outputs": [],
   "source": []
  },
  {
   "cell_type": "markdown",
   "id": "ee4d267d",
   "metadata": {},
   "source": [
    "# Plot The model Out with respect our Predicted data"
   ]
  },
  {
   "cell_type": "code",
   "execution_count": 20,
   "id": "9c4f9e39",
   "metadata": {
    "scrolled": true
   },
   "outputs": [
    {
     "data": {
      "text/plain": [
       "Text(0, 0.5, 'Emission')"
      ]
     },
     "execution_count": 20,
     "metadata": {},
     "output_type": "execute_result"
    },
    {
     "data": {
      "image/png": "[encoded data removed]",
      "text/plain": [
       "<Figure size 640x480 with 1 Axes>"
      ]
     },
     "metadata": {},
     "output_type": "display_data"
    }
   ],
   "source": [
    "plt.scatter(train.ENGINESIZE, train.CO2EMISSIONS,  color='blue')\n",
    "plt.plot(train_x, regr.coef_[0]*train_x + regr.intercept_[0], '-r')\n",
    "plt.xlabel(\"Engine size\")\n",
    "plt.ylabel(\"Emission\")"
   ]
  },
  {
   "cell_type": "markdown",
   "id": "36d71dad",
   "metadata": {},
   "source": [
    "Evaluation the predicted model by train data and predict the accuracy by r**2 , MSE , MAE"
   ]
  },
  {
   "cell_type": "code",
   "execution_count": 24,
   "id": "cecc148c",
   "metadata": {},
   "outputs": [
    {
     "name": "stdout",
     "output_type": "stream",
     "text": [
      "Mean absolute error: 25.76\n",
      "Residual sum of squares (MSE): 1134.84\n",
      "R2-score: 0.72\n"
     ]
    }
   ],
   "source": [
    "from sklearn.metrics import r2_score\n",
    "\n",
    "test_x = np.asanyarray(test[['ENGINESIZE']])\n",
    "test_y = np.asanyarray(test[['CO2EMISSIONS']])\n",
    "test_y_ = regr.predict(test_x)\n",
    "\n",
    "print(\"Mean absolute error: %.2f\" % np.mean(np.absolute(test_y_ - test_y)))\n",
    "print(\"Residual sum of squares (MSE): %.2f\" % np.mean((test_y_ - test_y) ** 2))\n",
    "print(\"R2-score: %.2f\" % r2_score(test_y , test_y_) )"
   ]
  },
  {
   "cell_type": "code",
   "execution_count": 50,
   "id": "c8326dcc",
   "metadata": {},
   "outputs": [
    {
     "data": {
      "text/plain": [
       "0.7183241200853345"
      ]
     },
     "execution_count": 50,
     "metadata": {},
     "output_type": "execute_result"
    }
   ],
   "source": [
    "regr.score(train_x,train_y)"
   ]
  },
  {
   "cell_type": "markdown",
   "id": "a930511d",
   "metadata": {},
   "source": [
    "# Plot the test data"
   ]
  },
  {
   "cell_type": "code",
   "execution_count": null,
   "id": "ea34a2b7",
   "metadata": {},
   "outputs": [],
   "source": []
  },
  {
   "cell_type": "code",
   "execution_count": 35,
   "id": "e0ad5bad",
   "metadata": {
    "scrolled": true
   },
   "outputs": [
    {
     "data": {
      "text/plain": [
       "Text(0, 0.5, 'Emission')"
      ]
     },
     "execution_count": 35,
     "metadata": {},
     "output_type": "execute_result"
    },
    {
     "data": {
      "image/png": "[encoded data removed]",
      "text/plain": [
       "<Figure size 640x480 with 1 Axes>"
      ]
     },
     "metadata": {},
     "output_type": "display_data"
    }
   ],
   "source": [
    "plt.scatter(test_x, test_y,  color='blue')\n",
    "plt.plot(test_x, test_y_, '-r')\n",
    "plt.xlabel(\"Engine size\")\n",
    "plt.ylabel(\"Emission\")"
   ]
  },
  {
   "cell_type": "code",
   "execution_count": 36,
   "id": "f4c28f39",
   "metadata": {},
   "outputs": [
    {
     "data": {
      "text/html": [
       "<div>\n",
       "<style scoped>\n",
       "    .dataframe tbody tr th:only-of-type {\n",
       "        vertical-align: middle;\n",
       "    }\n",
       "\n",
       "    .dataframe tbody tr th {\n",
       "        vertical-align: top;\n",
       "    }\n",
       "\n",
       "    .dataframe thead th {\n",
       "        text-align: right;\n",
       "    }\n",
       "</style>\n",
       "<table border=\"1\" class=\"dataframe\">\n",
       "  <thead>\n",
       "    <tr style=\"text-align: right;\">\n",
       "      <th></th>\n",
       "      <th>ENGINESIZE</th>\n",
       "      <th>CYLINDERS</th>\n",
       "      <th>FUELCONSUMPTION_COMB</th>\n",
       "      <th>CO2EMISSIONS</th>\n",
       "    </tr>\n",
       "  </thead>\n",
       "  <tbody>\n",
       "    <tr>\n",
       "      <th>0</th>\n",
       "      <td>2.0</td>\n",
       "      <td>4</td>\n",
       "      <td>8.5</td>\n",
       "      <td>196</td>\n",
       "    </tr>\n",
       "    <tr>\n",
       "      <th>1</th>\n",
       "      <td>2.4</td>\n",
       "      <td>4</td>\n",
       "      <td>9.6</td>\n",
       "      <td>221</td>\n",
       "    </tr>\n",
       "  </tbody>\n",
       "</table>\n",
       "</div>"
      ],
      "text/plain": [
       "   ENGINESIZE  CYLINDERS  FUELCONSUMPTION_COMB  CO2EMISSIONS\n",
       "0         2.0          4                   8.5           196\n",
       "1         2.4          4                   9.6           221"
      ]
     },
     "execution_count": 36,
     "metadata": {},
     "output_type": "execute_result"
    }
   ],
   "source": [
    "df.head(2)"
   ]
  },
  {
   "cell_type": "code",
   "execution_count": 37,
   "id": "36dd4be5",
   "metadata": {},
   "outputs": [],
   "source": [
    "train_x = train[['FUELCONSUMPTION_COMB']]\n",
    "test_x = test[['FUELCONSUMPTION_COMB']]"
   ]
  },
  {
   "cell_type": "code",
   "execution_count": 38,
   "id": "59e38342",
   "metadata": {},
   "outputs": [
    {
     "data": {
      "text/html": [
       "<style>#sk-container-id-1 {color: black;background-color: white;}#sk-container-id-1 pre{padding: 0;}#sk-container-id-1 div.sk-toggleable {background-color: white;}#sk-container-id-1 label.sk-toggleable__label {cursor: pointer;display: block;width: 100%;margin-bottom: 0;padding: 0.3em;box-sizing: border-box;text-align: center;}#sk-container-id-1 label.sk-toggleable__label-arrow:before {content: \"▸\";float: left;margin-right: 0.25em;color: #696969;}#sk-container-id-1 label.sk-toggleable__label-arrow:hover:before {color: black;}#sk-container-id-1 div.sk-estimator:hover label.sk-toggleable__label-arrow:before {color: black;}#sk-container-id-1 div.sk-toggleable__content {max-height: 0;max-width: 0;overflow: hidden;text-align: left;background-color: #f0f8ff;}#sk-container-id-1 div.sk-toggleable__content pre {margin: 0.2em;color: black;border-radius: 0.25em;background-color: #f0f8ff;}#sk-container-id-1 input.sk-toggleable__control:checked~div.sk-toggleable__content {max-height: 200px;max-width: 100%;overflow: auto;}#sk-container-id-1 input.sk-toggleable__control:checked~label.sk-toggleable__label-arrow:before {content: \"▾\";}#sk-container-id-1 div.sk-estimator input.sk-toggleable__control:checked~label.sk-toggleable__label {background-color: #d4ebff;}#sk-container-id-1 div.sk-label input.sk-toggleable__control:checked~label.sk-toggleable__label {background-color: #d4ebff;}#sk-container-id-1 input.sk-hidden--visually {border: 0;clip: rect(1px 1px 1px 1px);clip: rect(1px, 1px, 1px, 1px);height: 1px;margin: -1px;overflow: hidden;padding: 0;position: absolute;width: 1px;}#sk-container-id-1 div.sk-estimator {font-family: monospace;background-color: #f0f8ff;border: 1px dotted black;border-radius: 0.25em;box-sizing: border-box;margin-bottom: 0.5em;}#sk-container-id-1 div.sk-estimator:hover {background-color: #d4ebff;}#sk-container-id-1 div.sk-parallel-item::after {content: \"\";width: 100%;border-bottom: 1px solid gray;flex-grow: 1;}#sk-container-id-1 div.sk-label:hover label.sk-toggleable__label {background-color: #d4ebff;}#sk-container-id-1 div.sk-serial::before {content: \"\";position: absolute;border-left: 1px solid gray;box-sizing: border-box;top: 0;bottom: 0;left: 50%;z-index: 0;}#sk-container-id-1 div.sk-serial {display: flex;flex-direction: column;align-items: center;background-color: white;padding-right: 0.2em;padding-left: 0.2em;position: relative;}#sk-container-id-1 div.sk-item {position: relative;z-index: 1;}#sk-container-id-1 div.sk-parallel {display: flex;align-items: stretch;justify-content: center;background-color: white;position: relative;}#sk-container-id-1 div.sk-item::before, #sk-container-id-1 div.sk-parallel-item::before {content: \"\";position: absolute;border-left: 1px solid gray;box-sizing: border-box;top: 0;bottom: 0;left: 50%;z-index: -1;}#sk-container-id-1 div.sk-parallel-item {display: flex;flex-direction: column;z-index: 1;position: relative;background-color: white;}#sk-container-id-1 div.sk-parallel-item:first-child::after {align-self: flex-end;width: 50%;}#sk-container-id-1 div.sk-parallel-item:last-child::after {align-self: flex-start;width: 50%;}#sk-container-id-1 div.sk-parallel-item:only-child::after {width: 0;}#sk-container-id-1 div.sk-dashed-wrapped {border: 1px dashed gray;margin: 0 0.4em 0.5em 0.4em;box-sizing: border-box;padding-bottom: 0.4em;background-color: white;}#sk-container-id-1 div.sk-label label {font-family: monospace;font-weight: bold;display: inline-block;line-height: 1.2em;}#sk-container-id-1 div.sk-label-container {text-align: center;}#sk-container-id-1 div.sk-container {/* jupyter's `normalize.less` sets `[hidden] { display: none; }` but bootstrap.min.css set `[hidden] { display: none !important; }` so we also need the `!important` here to be able to override the default hidden behavior on the sphinx rendered scikit-learn.org. See: https://github.com/scikit-learn/scikit-learn/issues/21755 */display: inline-block !important;position: relative;}#sk-container-id-1 div.sk-text-repr-fallback {display: none;}</style><div id=\"sk-container-id-1\" class=\"sk-top-container\"><div class=\"sk-text-repr-fallback\"><pre>LinearRegression()</pre><b>In a Jupyter environment, please rerun this cell to show the HTML representation or trust the notebook. <br />On GitHub, the HTML representation is unable to render, please try loading this page with nbviewer.org.</b></div><div class=\"sk-container\" hidden><div class=\"sk-item\"><div class=\"sk-estimator sk-toggleable\"><input class=\"sk-toggleable__control sk-hidden--visually\" id=\"sk-estimator-id-1\" type=\"checkbox\" checked><label for=\"sk-estimator-id-1\" class=\"sk-toggleable__label sk-toggleable__label-arrow\">LinearRegression</label><div class=\"sk-toggleable__content\"><pre>LinearRegression()</pre></div></div></div></div></div>"
      ],
      "text/plain": [
       "LinearRegression()"
      ]
     },
     "execution_count": 38,
     "metadata": {},
     "output_type": "execute_result"
    }
   ],
   "source": [
    "regr = linear_model.LinearRegression()\n",
    "regr.fit(train_x , train_y)"
   ]
  },
  {
   "cell_type": "code",
   "execution_count": 42,
   "id": "cd2ed4b0",
   "metadata": {
    "collapsed": true
   },
   "outputs": [
    {
     "name": "stdout",
     "output_type": "stream",
     "text": [
      "Predictions: [[165.23001351]\n",
      " [240.27071495]\n",
      " [232.28766161]\n",
      " [256.23682164]\n",
      " [227.4978296 ]\n",
      " [316.90802706]\n",
      " [211.53172291]\n",
      " [230.69105094]\n",
      " [233.88427227]\n",
      " [249.85037896]\n",
      " [249.85037896]\n",
      " [216.32155492]\n",
      " [304.13514171]\n",
      " [353.63007244]\n",
      " [316.90802706]\n",
      " [269.00970699]\n",
      " [265.81648565]\n",
      " [216.32155492]\n",
      " [292.95886703]\n",
      " [294.55547769]\n",
      " [334.47074442]\n",
      " [209.93511224]\n",
      " [205.14528023]\n",
      " [229.09444027]\n",
      " [205.14528023]\n",
      " [241.86732562]\n",
      " [273.799539  ]\n",
      " [232.28766161]\n",
      " [241.86732562]\n",
      " [273.799539  ]\n",
      " [305.73175238]\n",
      " [305.73175238]\n",
      " [305.73175238]\n",
      " [230.69105094]\n",
      " [267.41309632]\n",
      " [201.9520589 ]\n",
      " [241.86732562]\n",
      " [233.88427227]\n",
      " [232.28766161]\n",
      " [243.46393629]\n",
      " [243.46393629]\n",
      " [336.06735509]\n",
      " [305.73175238]\n",
      " [332.87413375]\n",
      " [249.85037896]\n",
      " [275.39614967]\n",
      " [273.799539  ]\n",
      " [336.06735509]\n",
      " [262.62326432]\n",
      " [342.45379776]\n",
      " [312.11819505]\n",
      " [414.30127786]\n",
      " [414.30127786]\n",
      " [334.47074442]\n",
      " [431.86399522]\n",
      " [482.95553663]\n",
      " [190.77578421]\n",
      " [197.16222689]\n",
      " [203.54866957]\n",
      " [364.80634713]\n",
      " [364.80634713]\n",
      " [241.86732562]\n",
      " [300.94192037]\n",
      " [275.39614967]\n",
      " [245.06054696]\n",
      " [307.32836305]\n",
      " [291.36225636]\n",
      " [300.94192037]\n",
      " [245.06054696]\n",
      " [284.97581368]\n",
      " [291.36225636]\n",
      " [208.33850157]\n",
      " [179.59950953]\n",
      " [166.82662418]\n",
      " [339.26057642]\n",
      " [243.46393629]\n",
      " [254.64021097]\n",
      " [337.66396576]\n",
      " [334.47074442]\n",
      " [267.41309632]\n",
      " [304.13514171]\n",
      " [284.97581368]\n",
      " [198.75883756]\n",
      " [185.98595221]\n",
      " [232.28766161]\n",
      " [206.7418909 ]\n",
      " [221.11138692]\n",
      " [240.27071495]\n",
      " [235.48088294]\n",
      " [229.09444027]\n",
      " [324.8910804 ]\n",
      " [358.41990445]\n",
      " [259.43004298]\n",
      " [355.22668311]\n",
      " [230.69105094]\n",
      " [272.20292833]\n",
      " [291.36225636]\n",
      " [291.36225636]\n",
      " [182.79273087]\n",
      " [241.86732562]\n",
      " [254.64021097]\n",
      " [284.97581368]\n",
      " [206.7418909 ]\n",
      " [171.61645619]\n",
      " [257.83343231]\n",
      " [267.41309632]\n",
      " [192.37239488]\n",
      " [302.53853104]\n",
      " [275.39614967]\n",
      " [269.00970699]\n",
      " [283.37920301]\n",
      " [280.18598167]\n",
      " [289.76564569]\n",
      " [243.46393629]\n",
      " [216.32155492]\n",
      " [227.4978296 ]\n",
      " [221.11138692]\n",
      " [216.32155492]\n",
      " [227.4978296 ]\n",
      " [233.88427227]\n",
      " [284.97581368]\n",
      " [284.97581368]\n",
      " [245.06054696]\n",
      " [205.14528023]\n",
      " [206.7418909 ]\n",
      " [224.30460826]\n",
      " [192.37239488]\n",
      " [219.51477625]\n",
      " [211.53172291]\n",
      " [230.69105094]\n",
      " [321.69785907]\n",
      " [302.53853104]\n",
      " [316.90802706]\n",
      " [312.11819505]\n",
      " [269.00970699]\n",
      " [267.41309632]\n",
      " [347.24362977]\n",
      " [316.90802706]\n",
      " [312.11819505]\n",
      " [160.4401815 ]\n",
      " [166.82662418]\n",
      " [240.27071495]\n",
      " [240.27071495]\n",
      " [267.41309632]\n",
      " [248.2537683 ]\n",
      " [201.9520589 ]\n",
      " [214.72494425]\n",
      " [326.48769107]\n",
      " [312.11819505]\n",
      " [302.53853104]\n",
      " [280.18598167]\n",
      " [201.9520589 ]\n",
      " [272.20292833]\n",
      " [187.58256288]\n",
      " [225.90121893]\n",
      " [192.37239488]\n",
      " [187.58256288]\n",
      " [198.75883756]\n",
      " [221.11138692]\n",
      " [238.67410428]\n",
      " [280.18598167]\n",
      " [185.98595221]\n",
      " [257.83343231]\n",
      " [323.29446973]\n",
      " [264.21987498]\n",
      " [214.72494425]\n",
      " [321.69785907]\n",
      " [195.56561622]\n",
      " [209.93511224]\n",
      " [209.93511224]\n",
      " [195.56561622]\n",
      " [203.54866957]\n",
      " [214.72494425]\n",
      " [203.54866957]\n",
      " [198.75883756]\n",
      " [214.72494425]\n",
      " [198.75883756]\n",
      " [222.70799759]\n",
      " [256.23682164]\n",
      " [173.21306686]\n",
      " [211.53172291]\n",
      " [240.27071495]\n",
      " [203.54866957]\n",
      " [297.74869903]\n",
      " [246.65715763]\n",
      " [241.86732562]\n",
      " [217.91816559]\n",
      " [227.4978296 ]\n",
      " [237.07749361]\n",
      " [292.95886703]\n",
      " [251.44698963]\n",
      " [272.20292833]\n",
      " [261.02665365]\n",
      " [339.26057642]\n",
      " [253.0436003 ]\n",
      " [344.05040843]\n",
      " [170.01984552]\n",
      " [214.72494425]\n",
      " [222.70799759]\n",
      " [195.56561622]\n",
      " [206.7418909 ]\n",
      " [280.18598167]\n",
      " [206.7418909 ]\n",
      " [224.30460826]\n",
      " [201.9520589 ]\n",
      " [201.9520589 ]\n",
      " [235.48088294]\n",
      " [201.9520589 ]\n",
      " [147.66729615]\n",
      " [213.12833358]\n",
      " [337.66396576]\n",
      " [269.00970699]\n",
      " [233.88427227]\n",
      " [280.18598167]\n",
      " [187.58256288]\n",
      " [221.11138692]\n",
      " [225.90121893]\n",
      " [267.41309632]\n",
      " [224.30460826]\n",
      " [214.72494425]\n",
      " [181.1961202 ]\n",
      " [256.23682164]\n",
      " [241.86732562]\n",
      " [237.07749361]]\n"
     ]
    }
   ],
   "source": [
    "Predictions = regr.predict(test_x)\n",
    "print(\"Predictions:\", Predictions)\n"
   ]
  },
  {
   "cell_type": "code",
   "execution_count": 43,
   "id": "f6da4a7b",
   "metadata": {
    "scrolled": false
   },
   "outputs": [
    {
     "name": "stdout",
     "output_type": "stream",
     "text": [
      "Mean absolute error: 131.73\n",
      "Residual sum of squares (MSE): 19548.25\n",
      "R2-score: -3.78\n"
     ]
    },
    {
     "name": "stderr",
     "output_type": "stream",
     "text": [
      "C:\\Users\\amit7\\anaconda3\\lib\\site-packages\\sklearn\\base.py:420: UserWarning: X does not have valid feature names, but LinearRegression was fitted with feature names\n",
      "  warnings.warn(\n"
     ]
    }
   ],
   "source": [
    "from sklearn.metrics import r2_score\n",
    "\n",
    "test_x = np.asanyarray(test[['ENGINESIZE']])\n",
    "test_y = np.asanyarray(test[['CO2EMISSIONS']])\n",
    "Predictions = regr.predict(test_x)\n",
    "\n",
    "print(\"Mean absolute error: %.2f\" % np.mean(np.absolute(Predictions - test_y)))\n",
    "print(\"Residual sum of squares (MSE): %.2f\" % np.mean((Predictions - test_y) ** 2))\n",
    "print(\"R2-score: %.2f\" % r2_score(test_y , Predictions) )"
   ]
  },
  {
   "cell_type": "code",
   "execution_count": 49,
   "id": "d3c9caaa",
   "metadata": {},
   "outputs": [
    {
     "name": "stderr",
     "output_type": "stream",
     "text": [
      "C:\\Users\\amit7\\anaconda3\\lib\\site-packages\\sklearn\\base.py:420: UserWarning: X does not have valid feature names, but LinearRegression was fitted with feature names\n",
      "  warnings.warn(\n"
     ]
    },
    {
     "data": {
      "text/plain": [
       "0.7346916605395482"
      ]
     },
     "execution_count": 49,
     "metadata": {},
     "output_type": "execute_result"
    }
   ],
   "source": [
    "regr.score(test_x,test_y)"
   ]
  },
  {
   "cell_type": "code",
   "execution_count": 44,
   "id": "900365ad",
   "metadata": {},
   "outputs": [
    {
     "data": {
      "text/html": [
       "<div>\n",
       "<style scoped>\n",
       "    .dataframe tbody tr th:only-of-type {\n",
       "        vertical-align: middle;\n",
       "    }\n",
       "\n",
       "    .dataframe tbody tr th {\n",
       "        vertical-align: top;\n",
       "    }\n",
       "\n",
       "    .dataframe thead th {\n",
       "        text-align: right;\n",
       "    }\n",
       "</style>\n",
       "<table border=\"1\" class=\"dataframe\">\n",
       "  <thead>\n",
       "    <tr style=\"text-align: right;\">\n",
       "      <th></th>\n",
       "      <th>ENGINESIZE</th>\n",
       "      <th>CYLINDERS</th>\n",
       "      <th>FUELCONSUMPTION_COMB</th>\n",
       "      <th>CO2EMISSIONS</th>\n",
       "    </tr>\n",
       "  </thead>\n",
       "  <tbody>\n",
       "    <tr>\n",
       "      <th>0</th>\n",
       "      <td>2.0</td>\n",
       "      <td>4</td>\n",
       "      <td>8.5</td>\n",
       "      <td>196</td>\n",
       "    </tr>\n",
       "  </tbody>\n",
       "</table>\n",
       "</div>"
      ],
      "text/plain": [
       "   ENGINESIZE  CYLINDERS  FUELCONSUMPTION_COMB  CO2EMISSIONS\n",
       "0         2.0          4                   8.5           196"
      ]
     },
     "execution_count": 44,
     "metadata": {},
     "output_type": "execute_result"
    }
   ],
   "source": [
    "df.head(1)"
   ]
  },
  {
   "cell_type": "code",
   "execution_count": 45,
   "id": "949b1bbf",
   "metadata": {},
   "outputs": [],
   "source": [
    "train_x = train[['CYLINDCYLINDERSERS']]\n",
    "test_x = test[['CYLINDERS']]"
   ]
  },
  {
   "cell_type": "code",
   "execution_count": 46,
   "id": "4ca4de88",
   "metadata": {},
   "outputs": [
    {
     "data": {
      "text/html": [
       "<style>#sk-container-id-2 {color: black;background-color: white;}#sk-container-id-2 pre{padding: 0;}#sk-container-id-2 div.sk-toggleable {background-color: white;}#sk-container-id-2 label.sk-toggleable__label {cursor: pointer;display: block;width: 100%;margin-bottom: 0;padding: 0.3em;box-sizing: border-box;text-align: center;}#sk-container-id-2 label.sk-toggleable__label-arrow:before {content: \"▸\";float: left;margin-right: 0.25em;color: #696969;}#sk-container-id-2 label.sk-toggleable__label-arrow:hover:before {color: black;}#sk-container-id-2 div.sk-estimator:hover label.sk-toggleable__label-arrow:before {color: black;}#sk-container-id-2 div.sk-toggleable__content {max-height: 0;max-width: 0;overflow: hidden;text-align: left;background-color: #f0f8ff;}#sk-container-id-2 div.sk-toggleable__content pre {margin: 0.2em;color: black;border-radius: 0.25em;background-color: #f0f8ff;}#sk-container-id-2 input.sk-toggleable__control:checked~div.sk-toggleable__content {max-height: 200px;max-width: 100%;overflow: auto;}#sk-container-id-2 input.sk-toggleable__control:checked~label.sk-toggleable__label-arrow:before {content: \"▾\";}#sk-container-id-2 div.sk-estimator input.sk-toggleable__control:checked~label.sk-toggleable__label {background-color: #d4ebff;}#sk-container-id-2 div.sk-label input.sk-toggleable__control:checked~label.sk-toggleable__label {background-color: #d4ebff;}#sk-container-id-2 input.sk-hidden--visually {border: 0;clip: rect(1px 1px 1px 1px);clip: rect(1px, 1px, 1px, 1px);height: 1px;margin: -1px;overflow: hidden;padding: 0;position: absolute;width: 1px;}#sk-container-id-2 div.sk-estimator {font-family: monospace;background-color: #f0f8ff;border: 1px dotted black;border-radius: 0.25em;box-sizing: border-box;margin-bottom: 0.5em;}#sk-container-id-2 div.sk-estimator:hover {background-color: #d4ebff;}#sk-container-id-2 div.sk-parallel-item::after {content: \"\";width: 100%;border-bottom: 1px solid gray;flex-grow: 1;}#sk-container-id-2 div.sk-label:hover label.sk-toggleable__label {background-color: #d4ebff;}#sk-container-id-2 div.sk-serial::before {content: \"\";position: absolute;border-left: 1px solid gray;box-sizing: border-box;top: 0;bottom: 0;left: 50%;z-index: 0;}#sk-container-id-2 div.sk-serial {display: flex;flex-direction: column;align-items: center;background-color: white;padding-right: 0.2em;padding-left: 0.2em;position: relative;}#sk-container-id-2 div.sk-item {position: relative;z-index: 1;}#sk-container-id-2 div.sk-parallel {display: flex;align-items: stretch;justify-content: center;background-color: white;position: relative;}#sk-container-id-2 div.sk-item::before, #sk-container-id-2 div.sk-parallel-item::before {content: \"\";position: absolute;border-left: 1px solid gray;box-sizing: border-box;top: 0;bottom: 0;left: 50%;z-index: -1;}#sk-container-id-2 div.sk-parallel-item {display: flex;flex-direction: column;z-index: 1;position: relative;background-color: white;}#sk-container-id-2 div.sk-parallel-item:first-child::after {align-self: flex-end;width: 50%;}#sk-container-id-2 div.sk-parallel-item:last-child::after {align-self: flex-start;width: 50%;}#sk-container-id-2 div.sk-parallel-item:only-child::after {width: 0;}#sk-container-id-2 div.sk-dashed-wrapped {border: 1px dashed gray;margin: 0 0.4em 0.5em 0.4em;box-sizing: border-box;padding-bottom: 0.4em;background-color: white;}#sk-container-id-2 div.sk-label label {font-family: monospace;font-weight: bold;display: inline-block;line-height: 1.2em;}#sk-container-id-2 div.sk-label-container {text-align: center;}#sk-container-id-2 div.sk-container {/* jupyter's `normalize.less` sets `[hidden] { display: none; }` but bootstrap.min.css set `[hidden] { display: none !important; }` so we also need the `!important` here to be able to override the default hidden behavior on the sphinx rendered scikit-learn.org. See: https://github.com/scikit-learn/scikit-learn/issues/21755 */display: inline-block !important;position: relative;}#sk-container-id-2 div.sk-text-repr-fallback {display: none;}</style><div id=\"sk-container-id-2\" class=\"sk-top-container\"><div class=\"sk-text-repr-fallback\"><pre>LinearRegression()</pre><b>In a Jupyter environment, please rerun this cell to show the HTML representation or trust the notebook. <br />On GitHub, the HTML representation is unable to render, please try loading this page with nbviewer.org.</b></div><div class=\"sk-container\" hidden><div class=\"sk-item\"><div class=\"sk-estimator sk-toggleable\"><input class=\"sk-toggleable__control sk-hidden--visually\" id=\"sk-estimator-id-2\" type=\"checkbox\" checked><label for=\"sk-estimator-id-2\" class=\"sk-toggleable__label sk-toggleable__label-arrow\">LinearRegression</label><div class=\"sk-toggleable__content\"><pre>LinearRegression()</pre></div></div></div></div></div>"
      ],
      "text/plain": [
       "LinearRegression()"
      ]
     },
     "execution_count": 46,
     "metadata": {},
     "output_type": "execute_result"
    }
   ],
   "source": [
    "regr = linear_model.LinearRegression()\n",
    "regr.fit(train_x , train_y)"
   ]
  },
  {
   "cell_type": "code",
   "execution_count": 47,
   "id": "8ceea4ff",
   "metadata": {},
   "outputs": [
    {
     "name": "stdout",
     "output_type": "stream",
     "text": [
      "Predictions: [[202.91248095]\n",
      " [262.05392263]\n",
      " [262.05392263]\n",
      " [262.05392263]\n",
      " [202.91248095]\n",
      " [321.19536431]\n",
      " [202.91248095]\n",
      " [202.91248095]\n",
      " [202.91248095]\n",
      " [262.05392263]\n",
      " [262.05392263]\n",
      " [262.05392263]\n",
      " [321.19536431]\n",
      " [321.19536431]\n",
      " [380.33680598]\n",
      " [262.05392263]\n",
      " [321.19536431]\n",
      " [202.91248095]\n",
      " [321.19536431]\n",
      " [321.19536431]\n",
      " [439.47824766]\n",
      " [202.91248095]\n",
      " [202.91248095]\n",
      " [262.05392263]\n",
      " [202.91248095]\n",
      " [262.05392263]\n",
      " [321.19536431]\n",
      " [262.05392263]\n",
      " [262.05392263]\n",
      " [321.19536431]\n",
      " [321.19536431]\n",
      " [321.19536431]\n",
      " [321.19536431]\n",
      " [202.91248095]\n",
      " [262.05392263]\n",
      " [202.91248095]\n",
      " [202.91248095]\n",
      " [202.91248095]\n",
      " [202.91248095]\n",
      " [262.05392263]\n",
      " [202.91248095]\n",
      " [321.19536431]\n",
      " [321.19536431]\n",
      " [321.19536431]\n",
      " [262.05392263]\n",
      " [321.19536431]\n",
      " [321.19536431]\n",
      " [321.19536431]\n",
      " [321.19536431]\n",
      " [262.05392263]\n",
      " [262.05392263]\n",
      " [321.19536431]\n",
      " [321.19536431]\n",
      " [321.19536431]\n",
      " [321.19536431]\n",
      " [321.19536431]\n",
      " [202.91248095]\n",
      " [202.91248095]\n",
      " [202.91248095]\n",
      " [321.19536431]\n",
      " [321.19536431]\n",
      " [202.91248095]\n",
      " [262.05392263]\n",
      " [321.19536431]\n",
      " [262.05392263]\n",
      " [262.05392263]\n",
      " [321.19536431]\n",
      " [262.05392263]\n",
      " [262.05392263]\n",
      " [321.19536431]\n",
      " [321.19536431]\n",
      " [202.91248095]\n",
      " [202.91248095]\n",
      " [202.91248095]\n",
      " [321.19536431]\n",
      " [262.05392263]\n",
      " [262.05392263]\n",
      " [262.05392263]\n",
      " [262.05392263]\n",
      " [262.05392263]\n",
      " [321.19536431]\n",
      " [262.05392263]\n",
      " [202.91248095]\n",
      " [202.91248095]\n",
      " [202.91248095]\n",
      " [202.91248095]\n",
      " [202.91248095]\n",
      " [262.05392263]\n",
      " [262.05392263]\n",
      " [202.91248095]\n",
      " [321.19536431]\n",
      " [321.19536431]\n",
      " [262.05392263]\n",
      " [262.05392263]\n",
      " [202.91248095]\n",
      " [262.05392263]\n",
      " [321.19536431]\n",
      " [321.19536431]\n",
      " [202.91248095]\n",
      " [262.05392263]\n",
      " [262.05392263]\n",
      " [262.05392263]\n",
      " [202.91248095]\n",
      " [202.91248095]\n",
      " [262.05392263]\n",
      " [262.05392263]\n",
      " [262.05392263]\n",
      " [321.19536431]\n",
      " [321.19536431]\n",
      " [262.05392263]\n",
      " [321.19536431]\n",
      " [321.19536431]\n",
      " [321.19536431]\n",
      " [262.05392263]\n",
      " [202.91248095]\n",
      " [202.91248095]\n",
      " [202.91248095]\n",
      " [202.91248095]\n",
      " [202.91248095]\n",
      " [202.91248095]\n",
      " [262.05392263]\n",
      " [262.05392263]\n",
      " [262.05392263]\n",
      " [202.91248095]\n",
      " [202.91248095]\n",
      " [202.91248095]\n",
      " [202.91248095]\n",
      " [202.91248095]\n",
      " [202.91248095]\n",
      " [202.91248095]\n",
      " [380.33680598]\n",
      " [262.05392263]\n",
      " [321.19536431]\n",
      " [321.19536431]\n",
      " [262.05392263]\n",
      " [262.05392263]\n",
      " [262.05392263]\n",
      " [321.19536431]\n",
      " [321.19536431]\n",
      " [202.91248095]\n",
      " [202.91248095]\n",
      " [262.05392263]\n",
      " [262.05392263]\n",
      " [321.19536431]\n",
      " [262.05392263]\n",
      " [262.05392263]\n",
      " [202.91248095]\n",
      " [321.19536431]\n",
      " [321.19536431]\n",
      " [321.19536431]\n",
      " [262.05392263]\n",
      " [202.91248095]\n",
      " [262.05392263]\n",
      " [202.91248095]\n",
      " [202.91248095]\n",
      " [202.91248095]\n",
      " [202.91248095]\n",
      " [202.91248095]\n",
      " [202.91248095]\n",
      " [262.05392263]\n",
      " [321.19536431]\n",
      " [202.91248095]\n",
      " [321.19536431]\n",
      " [321.19536431]\n",
      " [262.05392263]\n",
      " [202.91248095]\n",
      " [321.19536431]\n",
      " [202.91248095]\n",
      " [202.91248095]\n",
      " [202.91248095]\n",
      " [202.91248095]\n",
      " [202.91248095]\n",
      " [202.91248095]\n",
      " [202.91248095]\n",
      " [202.91248095]\n",
      " [202.91248095]\n",
      " [202.91248095]\n",
      " [202.91248095]\n",
      " [202.91248095]\n",
      " [173.34176011]\n",
      " [202.91248095]\n",
      " [262.05392263]\n",
      " [202.91248095]\n",
      " [262.05392263]\n",
      " [262.05392263]\n",
      " [262.05392263]\n",
      " [262.05392263]\n",
      " [262.05392263]\n",
      " [262.05392263]\n",
      " [321.19536431]\n",
      " [262.05392263]\n",
      " [262.05392263]\n",
      " [262.05392263]\n",
      " [262.05392263]\n",
      " [262.05392263]\n",
      " [439.47824766]\n",
      " [202.91248095]\n",
      " [202.91248095]\n",
      " [202.91248095]\n",
      " [202.91248095]\n",
      " [202.91248095]\n",
      " [262.05392263]\n",
      " [202.91248095]\n",
      " [262.05392263]\n",
      " [202.91248095]\n",
      " [202.91248095]\n",
      " [202.91248095]\n",
      " [262.05392263]\n",
      " [202.91248095]\n",
      " [202.91248095]\n",
      " [321.19536431]\n",
      " [262.05392263]\n",
      " [202.91248095]\n",
      " [262.05392263]\n",
      " [202.91248095]\n",
      " [202.91248095]\n",
      " [202.91248095]\n",
      " [262.05392263]\n",
      " [202.91248095]\n",
      " [202.91248095]\n",
      " [202.91248095]\n",
      " [202.91248095]\n",
      " [202.91248095]\n",
      " [262.05392263]]\n"
     ]
    }
   ],
   "source": [
    "Predictions = regr.predict(test_x)\n",
    "print(\"Predictions:\", Predictions)\n"
   ]
  },
  {
   "cell_type": "code",
   "execution_count": 48,
   "id": "9fd6c39a",
   "metadata": {},
   "outputs": [
    {
     "name": "stdout",
     "output_type": "stream",
     "text": [
      "Mean absolute error: 25.97\n",
      "Residual sum of squares (MSE): 1084.10\n",
      "R2-score: 0.73\n"
     ]
    },
    {
     "name": "stderr",
     "output_type": "stream",
     "text": [
      "C:\\Users\\amit7\\anaconda3\\lib\\site-packages\\sklearn\\base.py:420: UserWarning: X does not have valid feature names, but LinearRegression was fitted with feature names\n",
      "  warnings.warn(\n"
     ]
    }
   ],
   "source": [
    "from sklearn.metrics import r2_score\n",
    "\n",
    "test_x = np.asanyarray(test[['CYLINDERS']])\n",
    "test_y = np.asanyarray(test[['CO2EMISSIONS']])\n",
    "Predictions = regr.predict(test_x)\n",
    "\n",
    "print(\"Mean absolute error: %.2f\" % np.mean(np.absolute(Predictions - test_y)))\n",
    "print(\"Residual sum of squares (MSE): %.2f\" % np.mean((Predictions - test_y) ** 2))\n",
    "print(\"R2-score: %.2f\" % r2_score(test_y , Predictions) )"
   ]
  },
  {
   "cell_type": "code",
   "execution_count": null,
   "id": "b0804dc1",
   "metadata": {},
   "outputs": [],
   "source": []
  }
 ],
 "metadata": {
  "kernelspec": {
   "display_name": "Python 3 (ipykernel)",
   "language": "python",
   "name": "python3"
  },
  "language_info": {
   "codemirror_mode": {
    "name": "ipython",
    "version": 3
   },
   "file_extension": ".py",
   "mimetype": "text/x-python",
   "name": "python",
   "nbconvert_exporter": "python",
   "pygments_lexer": "ipython3",
   "version": "3.10.9"
  }
 },
 "nbformat": 4,
 "nbformat_minor": 5
}
